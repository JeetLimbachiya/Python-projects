{
 "cells": [
  {
   "cell_type": "code",
   "execution_count": 1,
   "metadata": {},
   "outputs": [
    {
     "name": "stdout",
     "output_type": "stream",
     "text": [
      "----------------------Dice Stimulater Game--------------------------\n",
      "[----------]\n",
      "[          ]\n",
      "[    1     ]\n",
      "[          ]\n",
      "[----------]\n",
      "Press y to roll again or any key to exit : y\n",
      "[----------]\n",
      "[          ]\n",
      "[    1     ]\n",
      "[          ]\n",
      "[----------]\n",
      "Press y to roll again or any key to exit : y\n",
      "[----------]\n",
      "[          ]\n",
      "[    4     ]\n",
      "[          ]\n",
      "[----------]\n",
      "Press y to roll again or any key to exit : y\n",
      "[----------]\n",
      "[          ]\n",
      "[     3    ]\n",
      "[          ]\n",
      "[----------]\n",
      "Press y to roll again or any key to exit : e\n"
     ]
    }
   ],
   "source": [
    "import numpy as np\n",
    "import pandas as pd\n",
    "import random\n",
    "\n",
    "print(\"----------------------Dice Stimulater Game--------------------------\")\n",
    "\n",
    "x='y'\n",
    "while x == 'y':\n",
    "    number = random.randint(1,6)\n",
    "\n",
    "    if number == 1:\n",
    "        print(\"[----------]\")\n",
    "        print(\"[          ]\")\n",
    "        print(\"[    1     ]\")\n",
    "        print(\"[          ]\")\n",
    "        print(\"[----------]\")\n",
    "\n",
    "    if number == 2:\n",
    "        print(\"[----------]\")\n",
    "        print(\"[          ]\")\n",
    "        print(\"[     2    ]\")\n",
    "        print(\"[          ]\")\n",
    "        print(\"[----------]\")\n",
    "\n",
    "    if number == 3:\n",
    "        print(\"[----------]\")\n",
    "        print(\"[          ]\")\n",
    "        print(\"[     3    ]\")\n",
    "        print(\"[          ]\")\n",
    "        print(\"[----------]\")\n",
    "\n",
    "    if number == 4:\n",
    "        print(\"[----------]\")\n",
    "        print(\"[          ]\")\n",
    "        print(\"[    4     ]\")\n",
    "        print(\"[          ]\")\n",
    "        print(\"[----------]\")\n",
    "\n",
    "    if number == 5:\n",
    "        print(\"[----------]\")\n",
    "        print(\"[          ]\")\n",
    "        print(\"[     5    ]\")\n",
    "        print(\"[          ]\")\n",
    "        print(\"[----------]\")\n",
    "\n",
    "    if number == 6:\n",
    "        print(\"[----------]\")\n",
    "        print(\"[          ]\")\n",
    "        print(\"[    6     ]\")\n",
    "        print(\"[          ]\")\n",
    "        print(\"[----------]\")\n",
    "    \n",
    "    x = input(\"Press y to roll again or any key to exit : \")"
   ]
  },
  {
   "cell_type": "code",
   "execution_count": null,
   "metadata": {},
   "outputs": [],
   "source": []
  }
 ],
 "metadata": {
  "kernelspec": {
   "display_name": "Python 3",
   "language": "python",
   "name": "python3"
  },
  "language_info": {
   "codemirror_mode": {
    "name": "ipython",
    "version": 3
   },
   "file_extension": ".py",
   "mimetype": "text/x-python",
   "name": "python",
   "nbconvert_exporter": "python",
   "pygments_lexer": "ipython3",
   "version": "3.7.4"
  }
 },
 "nbformat": 4,
 "nbformat_minor": 2
}
