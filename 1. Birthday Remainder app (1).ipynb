{
 "cells": [
  {
   "cell_type": "code",
   "execution_count": 1,
   "metadata": {},
   "outputs": [
    {
     "name": "stdout",
     "output_type": "stream",
     "text": [
      "2020-07-09 22:34:21.246064\n",
      "-------------Birthday Reminder App---------------\n",
      "1.Take me to the birthdays..\n",
      "2.I want to add the new birthdays to the list\n",
      "3.Exit\n",
      "Enter the choice2\n",
      "Enter your friends name : jack\n",
      "Enter the date of birth : 56-12-2303\n",
      "Birthday is added to the list\n",
      "-------------Birthday Reminder App---------------\n",
      "1.Take me to the birthdays..\n",
      "2.I want to add the new birthdays to the list\n",
      "3.Exit\n",
      "Enter the choice1\n",
      "Enter the name to display the birthdate :jack\n",
      "56-12-2303\n",
      "-------------Birthday Reminder App---------------\n",
      "1.Take me to the birthdays..\n",
      "2.I want to add the new birthdays to the list\n",
      "3.Exit\n",
      "Enter the choice3\n"
     ]
    }
   ],
   "source": [
    "import datetime\n",
    "x=datetime.datetime.now()          # it shows date , time , and accuracy of point sec (crystal clock of the computer)\n",
    "print(x)\n",
    "\n",
    "d = {}\n",
    "while True:\n",
    "    print(\"-------------Birthday Reminder App---------------\")                                   #Birthday Reminder App\n",
    "    print(\"1.Take me to the birthdays..\")\n",
    "    print(\"2.I want to add the new birthdays to the list\")\n",
    "    print(\"3.Exit\")\n",
    "    choice=int(input(\"Enter the choice\"))\n",
    "    if choice == 1:\n",
    "        if len(d.keys()) == 0:\n",
    "            print(\"Nothing there to display\")\n",
    "        else:\n",
    "            Name = input(\"Enter the name to display the birthdate :\")\n",
    "            Birthday = d.get(Name,\"No data found\")\n",
    "            print(Birthday)\n",
    "    elif choice == 2:\n",
    "        Name = input(\"Enter your friends name : \")\n",
    "        Date = input(\"Enter the date of birth : \")\n",
    "        d[Name] = Date\n",
    "        print(\"Birthday is added to the list\")\n",
    "    elif choice == 3:\n",
    "        break\n",
    "    else:\n",
    "        print(\"Choose a valid option dear :) \")\n"
   ]
  },
  {
   "cell_type": "code",
   "execution_count": null,
   "metadata": {},
   "outputs": [],
   "source": []
  }
 ],
 "metadata": {
  "kernelspec": {
   "display_name": "Python 3",
   "language": "python",
   "name": "python3"
  },
  "language_info": {
   "codemirror_mode": {
    "name": "ipython",
    "version": 3
   },
   "file_extension": ".py",
   "mimetype": "text/x-python",
   "name": "python",
   "nbconvert_exporter": "python",
   "pygments_lexer": "ipython3",
   "version": "3.7.4"
  }
 },
 "nbformat": 4,
 "nbformat_minor": 2
}
